{
 "cells": [
  {
   "cell_type": "code",
   "execution_count": 2,
   "metadata": {},
   "outputs": [
    {
     "name": "stdout",
     "output_type": "stream",
     "text": [
      "Модель Случайного леса - Точность: 0.981\n",
      "Модель Случайного леса - Точность (precision): 0.983\n",
      "Модель Случайного леса - Полнота (recall): 0.981\n",
      "Модель Случайного леса - F1-мера: 0.982\n",
      "\n",
      "Модель Градиентного бустинга - Точность: 0.963\n",
      "Модель Градиентного бустинга - Точность (precision): 0.965\n",
      "Модель Градиентного бустинга - Полнота (recall): 0.963\n",
      "Модель Градиентного бустинга - F1-мера: 0.963\n",
      "\n",
      "Модель Простого дерева решений - Точность: 0.944\n",
      "Модель Простого дерева решений - Точность (precision): 0.945\n",
      "Модель Простого дерева решений - Полнота (recall): 0.944\n",
      "Модель Простого дерева решений - F1-мера: 0.944\n"
     ]
    }
   ],
   "source": [
    "from sklearn.model_selection import train_test_split\n",
    "from sklearn.datasets import load_wine\n",
    "from sklearn.metrics import accuracy_score, precision_score, recall_score, f1_score\n",
    "\n",
    "# загрузка данных\n",
    "wine = load_wine()\n",
    "# разделение данных на 70% обучающих и 30% тестовых\n",
    "X_train, X_test, y_train, y_test = train_test_split(wine.data, wine.target, test_size=0.3, random_state=0)\n",
    "\n",
    "# создание модели Случайного леса\n",
    "from sklearn.ensemble import RandomForestClassifier\n",
    "rf_model = RandomForestClassifier(n_estimators = 100)\n",
    "\n",
    "# создание модели Градиентного бустинга\n",
    "from sklearn.ensemble import GradientBoostingClassifier\n",
    "gbc_model = GradientBoostingClassifier()\n",
    "\n",
    "# создание модели Простого дерева решений\n",
    "from sklearn.tree import DecisionTreeClassifier\n",
    "dtc_model = DecisionTreeClassifier()\n",
    "\n",
    "# Обучение, предсказания и метрики \n",
    "\n",
    "# RandomForest\n",
    "rf_model.fit(X_train, y_train)\n",
    "rf_predictions = rf_model.predict(X_test)\n",
    "rf_accuracy = accuracy_score(y_test, rf_predictions)\n",
    "rf_precision = precision_score(y_test, rf_predictions, average='weighted')\n",
    "rf_recall = recall_score(y_test, rf_predictions, average='weighted')\n",
    "rf_f1 = f1_score(y_test, rf_predictions, average='weighted')\n",
    "    \n",
    "# GradientBoosting\n",
    "gbc_model.fit(X_train, y_train)\n",
    "gbc_predictions = gbc_model.predict(X_test)\n",
    "gbc_accuracy = accuracy_score(y_test, gbc_predictions)\n",
    "gbc_precision = precision_score(y_test, gbc_predictions, average='weighted')\n",
    "gbc_recall = recall_score(y_test, gbc_predictions, average='weighted')\n",
    "gbc_f1 = f1_score(y_test, gbc_predictions, average='weighted')\n",
    "    \n",
    "# DecisionTreeClassifier\n",
    "dtc_model.fit(X_train, y_train)\n",
    "dtc_predictions = dtc_model.predict(X_test)\n",
    "dtc_accuracy = accuracy_score(y_test, dtc_predictions)\n",
    "dtc_precision = precision_score(y_test, dtc_predictions, average='weighted')\n",
    "dtc_recall = recall_score(y_test, dtc_predictions, average='weighted')\n",
    "dtc_f1 = f1_score(y_test, dtc_predictions, average='weighted')\n",
    "\n",
    "# вывод метрик\n",
    "print(f\"Модель Случайного леса - Точность: {rf_accuracy:.3f}\")\n",
    "print(f\"Модель Случайного леса - Точность (precision): {rf_precision:.3f}\")\n",
    "print(f\"Модель Случайного леса - Полнота (recall): {rf_recall:.3f}\")\n",
    "print(f\"Модель Случайного леса - F1-мера: {rf_f1:.3f}\")\n",
    "print()\n",
    "print(f\"Модель Градиентного бустинга - Точность: {gbc_accuracy:.3f}\")\n",
    "print(f\"Модель Градиентного бустинга - Точность (precision): {gbc_precision:.3f}\")\n",
    "print(f\"Модель Градиентного бустинга - Полнота (recall): {gbc_recall:.3f}\")\n",
    "print(f\"Модель Градиентного бустинга - F1-мера: {gbc_f1:.3f}\")\n",
    "print()\n",
    "print(f\"Модель Простого дерева решений - Точность: {dtc_accuracy:.3f}\")\n",
    "print(f\"Модель Простого дерева решений - Точность (precision): {dtc_precision:.3f}\")\n",
    "print(f\"Модель Простого дерева решений - Полнота (recall): {dtc_recall:.3f}\")\n",
    "print(f\"Модель Простого дерева решений - F1-мера: {dtc_f1:.3f}\")"
   ]
  }
 ],
 "metadata": {
  "kernelspec": {
   "display_name": "Python 3",
   "language": "python",
   "name": "python3"
  },
  "language_info": {
   "codemirror_mode": {
    "name": "ipython",
    "version": 3
   },
   "file_extension": ".py",
   "mimetype": "text/x-python",
   "name": "python",
   "nbconvert_exporter": "python",
   "pygments_lexer": "ipython3",
   "version": "3.10.4"
  }
 },
 "nbformat": 4,
 "nbformat_minor": 2
}
